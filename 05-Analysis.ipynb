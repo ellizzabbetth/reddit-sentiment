{
 "cells": [
  {
   "attachments": {},
   "cell_type": "markdown",
   "id": "3bb769e0",
   "metadata": {},
   "source": [
    "<a href = \"https://www.pieriantraining.com\"><img src=\"../PT Centered Purple.png\"> </a>\n",
    "\n",
    "<em style=\"text-align:center\">Copyrighted by Pierian Training</em>"
   ]
  },
  {
   "attachments": {},
   "cell_type": "markdown",
   "id": "50ef79d9",
   "metadata": {},
   "source": [
    "## Reddit API:\n",
    "1. Go to https://www.reddit.com/prefs/apps\n",
    "2. Click \"create application\"\n",
    "3. Name: My Sentiment Example\n",
    "4. Choose script\n",
    "5. Leave *description* and *about url* blank\n",
    "6. Add http://www.example.com/unused/redirect/uri to *redirect uri*"
   ]
  },
  {
   "cell_type": "code",
   "execution_count": 17,
   "id": "853d5563",
   "metadata": {},
   "outputs": [
    {
     "name": "stdout",
     "output_type": "stream",
     "text": [
      "Requirement already satisfied: praw in c:\\python39\\lib\\site-packages (7.7.0)\n",
      "Requirement already satisfied: prawcore<3,>=2.1 in c:\\python39\\lib\\site-packages (from praw) (2.3.0)\n",
      "Requirement already satisfied: websocket-client>=0.54.0 in c:\\python39\\lib\\site-packages (from praw) (1.5.1)\n",
      "Requirement already satisfied: update-checker>=0.18 in c:\\python39\\lib\\site-packages (from praw) (0.18.0)\n",
      "Requirement already satisfied: requests<3.0,>=2.6.0 in c:\\python39\\lib\\site-packages (from prawcore<3,>=2.1->praw) (2.28.1)\n",
      "Requirement already satisfied: idna<4,>=2.5 in c:\\python39\\lib\\site-packages (from requests<3.0,>=2.6.0->prawcore<3,>=2.1->praw) (3.3)\n",
      "Requirement already satisfied: certifi>=2017.4.17 in c:\\python39\\lib\\site-packages (from requests<3.0,>=2.6.0->prawcore<3,>=2.1->praw) (2022.6.15)\n",
      "Requirement already satisfied: urllib3<1.27,>=1.21.1 in c:\\python39\\lib\\site-packages (from requests<3.0,>=2.6.0->prawcore<3,>=2.1->praw) (1.26.12)\n",
      "Requirement already satisfied: charset-normalizer<3,>=2 in c:\\python39\\lib\\site-packages (from requests<3.0,>=2.6.0->prawcore<3,>=2.1->praw) (2.1.0)\n"
     ]
    },
    {
     "name": "stderr",
     "output_type": "stream",
     "text": [
      "WARNING: Ignoring invalid distribution -ip (c:\\python39\\lib\\site-packages)\n",
      "WARNING: Ignoring invalid distribution - (c:\\python39\\lib\\site-packages)\n",
      "WARNING: Ignoring invalid distribution -ip (c:\\python39\\lib\\site-packages)\n",
      "WARNING: Ignoring invalid distribution - (c:\\python39\\lib\\site-packages)\n",
      "WARNING: Ignoring invalid distribution -ip (c:\\python39\\lib\\site-packages)\n",
      "WARNING: Ignoring invalid distribution - (c:\\python39\\lib\\site-packages)\n",
      "WARNING: Ignoring invalid distribution -ip (c:\\python39\\lib\\site-packages)\n",
      "WARNING: Ignoring invalid distribution - (c:\\python39\\lib\\site-packages)\n",
      "\n",
      "[notice] A new release of pip is available: 23.0 -> 23.1.2\n",
      "[notice] To update, run: python.exe -m pip install --upgrade pip\n"
     ]
    }
   ],
   "source": [
    "%pip install praw"
   ]
  },
  {
   "attachments": {},
   "cell_type": "markdown",
   "id": "0c82159c",
   "metadata": {},
   "source": [
    "## Imports"
   ]
  },
  {
   "cell_type": "code",
   "execution_count": 18,
   "id": "3f8439a1",
   "metadata": {},
   "outputs": [
    {
     "data": {
      "text/plain": [
       "True"
      ]
     },
     "execution_count": 18,
     "metadata": {},
     "output_type": "execute_result"
    }
   ],
   "source": [
    "\n",
    "import praw\n",
    "import os\n",
    "import openai\n",
    "from dotenv import load_dotenv\n",
    "load_dotenv()"
   ]
  },
  {
   "cell_type": "code",
   "execution_count": 19,
   "id": "99e65c62",
   "metadata": {},
   "outputs": [],
   "source": [
    "reddit = praw.Reddit(client_id=os.environ.get('client_id'), # the App ID retreived from the reddit application\n",
    "                     client_secret=os.environ.get('client_secret'), # the secret retreived from the reddit application\n",
    "                     user_agent=\"sentiment analysis test (by u/YourUserName)\"  # add your reddit name\n",
    "                    )"
   ]
  },
  {
   "attachments": {},
   "cell_type": "markdown",
   "id": "7a3cbf37",
   "metadata": {},
   "source": [
    "We can now already use our reddit instance to obtain public information from reddit!"
   ]
  },
  {
   "cell_type": "code",
   "execution_count": 20,
   "id": "239d2340",
   "metadata": {},
   "outputs": [
    {
     "name": "stdout",
     "output_type": "stream",
     "text": [
      "test\n",
      "testy mcface\n",
      "Test post wait can’t I put words in ?\n",
      "Link Submission\n",
      "Link Submission\n",
      "Link Submission\n",
      "My Link Submission\n",
      "My Link Submission\n",
      "My Link Submission\n",
      "My Link Submission\n"
     ]
    }
   ],
   "source": [
    "for submission in reddit.subreddit(\"test\").hot(limit=10):\n",
    "    print(submission.title)\n"
   ]
  },
  {
   "attachments": {},
   "cell_type": "markdown",
   "id": "d96e40a7",
   "metadata": {},
   "source": [
    "Of course we want to access hot subreddits like r/wallstreetbets or r/stocks"
   ]
  },
  {
   "cell_type": "code",
   "execution_count": 21,
   "id": "e2ba3e2c",
   "metadata": {},
   "outputs": [],
   "source": [
    "subreddit_stocks = reddit.subreddit(\"stocks\")"
   ]
  },
  {
   "cell_type": "code",
   "execution_count": 22,
   "id": "4978a90b",
   "metadata": {},
   "outputs": [
    {
     "name": "stdout",
     "output_type": "stream",
     "text": [
      "stocks\n",
      "Stocks - Investing and trading for all\n",
      "4205\n"
     ]
    }
   ],
   "source": [
    "print(subreddit_stocks.display_name)\n",
    "print(subreddit_stocks.title)\n",
    "print(subreddit_stocks.accounts_active)"
   ]
  },
  {
   "attachments": {},
   "cell_type": "markdown",
   "id": "9ca002e6",
   "metadata": {},
   "source": [
    "Let's say we want to access the first 5 hot posts and three most upvoted comments:"
   ]
  },
  {
   "cell_type": "code",
   "execution_count": 23,
   "id": "8c56d721",
   "metadata": {},
   "outputs": [
    {
     "name": "stdout",
     "output_type": "stream",
     "text": [
      "Rate My Portfolio - r/Stocks Quarterly Thread March 2023\n",
      "I am 26, so I have several decades until retirement. My goal is to hold the stocks in my portfolio perpetually, though I'm not reserved to make adjustments and sell when a) I see an opportunity to take profits b) my thesis changes. My long term goal is passive income generation, though I don't chase yields. I don't pay much attention to valuation or macro, as I think that since I plan on holding these stocks for decades while buying every month, those don't matter to me much. I invest regularly every month, so I'm okay with buying at a higher valuation at times and lower valuation at other times. In my opinion, buying at the best possible time is more difficult than buying a good company. That said, if I see an undervalued stock I like, I don't hesitate to buy more and when I make my regular contributions, I try weigh towards stocks that might have been beaten down or seem undervalued. My last review in one of these was [Dec 2021](https://www.reddit.com/r/stocks/comments/r6bdjt/rate_my_portfolio_rstocks_quarterly_thread/hn1ot2t/). Since then, I have made some adjustments, mostly by researching new companies and updating what I focus on when doing my analysis. I am pretty comfortable with my current portfolio and can see myself holding any of these companies for decades (that surely won't be the case, but I'm okay with that; not all of these will be good investments, but most of them should, I think).\n",
      "\n",
      "My goal is not doing 50% in a year or buying low and selling high. My goal is to outperform the index modestly, at maybe 2-3% annually, which would compound very nicely over decades. I'm okay with the risk that I underperform at a modest rate. I want to avoid making drastic changes to my portfolio depending on macro environment.\n",
      "\n",
      "I like stocks that are quality companies with:\n",
      "\n",
      "-\tA sustainable business model - high cash flow generation, high ROIC / ROCE, good balance sheet. Bonus points for recurring, diversified revenue, and optionality.\n",
      "-\tBusiness model and products I understand, or at least understand their value. I don't think I'll ever understand ASML's machines, but I understand why it's one of a kind company.\n",
      "-\tA wide moat. Bonus points are for brand value, network effect, IP, barriers to entry / high switching costs, supply chain, etc. I am okay with paying a high multiple for a company that cannot be replicated by throwing money at the problem. Almost every company I own scores very high in this regard in my own checklist.\n",
      "-\tHigh margins. I focus mostly on gross margin, but consider other margin metrics, too.\n",
      "-\tSustainable buybacks and dividend growth.\n",
      "-\tGreat management.\n",
      "\n",
      "Not every company I own scores high in each of these, but together they fit my investment goals very well.\n",
      "\n",
      "I used to have an allocation for growth in my portfolio, but overtime, I have decided to fully target quality companies and compounders with a great track record. I realized that it is never too late to buy into a company once it becomes profitable and sustainable. And if I miss a few 10-baggers because of restraint from unprofitable companies, I'll be okay with that.\n",
      "\n",
      "My current allocation is 96% equity, with the rest being a single commodity holding - a carbon allowance ETF (CARB on BIT)\n",
      "\n",
      "Of the 96% equity, 1/3 (32%) is in diversified ETFs:\n",
      "\n",
      "| **Name**                 | **Target allocation** |\n",
      "|--------------------------|----------------------:|\n",
      "| **MSCI World**           | 14,0%                 |\n",
      "| **MSCI World Quality**           | 10,0%                 |\n",
      "| **MSCI World Small Cap** | 4,0%                  |\n",
      "| **MSCI EM IMI**          | 4,0%                  |\n",
      "\n",
      "The other 2/3s are stocks, structured as following, ordered by my target weight (descending):\n",
      "\n",
      "| **Name**                        | **Ticker** | **Target allocation** |\n",
      "|---------------------------------|:----------:|----------------------:|\n",
      "| **Microsoft**                   | MSFT       | 6,00%                 |\n",
      "| **Apple**                       | AAPL       | 5,50%                 |\n",
      "| **ASML Holding**                | ASML       | 5,50%                 |\n",
      "| **Brookfield Corporation**      | BN         | 4,00%                 |\n",
      "| **Costco**                      | COST       | 4,00%                 |\n",
      "| **MasterCard**                  | MA         | 4,00%                 |\n",
      "| **Novo Nordisk**                | NVO        | 4,00%                 |\n",
      "| **Ulta Beauty**                 | ULTA       | 4,00%                 |\n",
      "| **Visa**                        | V          | 4,00%                 |\n",
      "| **Alphabet**                    | GOOG       | 4,00%                 |\n",
      "| **Johnson and Johnson**         | JNJ        | 3,00%                 |\n",
      "| **Home Depot**                  | HD         | 3,00%                 |\n",
      "| **Lockheed Martin**             | LMT        | 3,00%                 |\n",
      "| **Union Pacific**               | UNP        | 3,00%                 |\n",
      "| **Intuitive Surgical**          | ISRG       | 2,50%                 |\n",
      "| **Adobe**                       | ADBE       | 2,50%                 |\n",
      "| **Brookfield Asset Management** | BAM        | 2,00%                 |\n",
      "\n",
      "Edit: I also have two retirement accounts that are both 100% MSCI World.\n",
      "GOOG 41% AMZN 31% MSFT 21% AAPL 6% currently up 11% as I only started this year. So as to not ruin my good work thus far I’m going to DCA the s and p going forward\n",
      "r/Stocks Daily Discussion & Technicals Tuesday - May 16, 2023\n",
      "Russell 2000 basically flat since 2018 (+7% over five years). Is it right to say that most of the growth in the US stock market since then has been driven by increasing concentration in a smallish number of large caps, and that most everything else has been flat for quite a while now, or significantly negative in real terms? I wonder what will happen if AAPL, MSFT etc stop posting 10+% annual returns to prop up the wider market\n",
      "US Retail Sales Advance (M/M) Apr: 0.4% (est 0.8%; prevR -0.6%) \n",
      "\n",
      " US Retail Sales Ex Auto (M/M) Apr: 0.4% (est 0.4%; prevR -0.4%) \n",
      "\n",
      "US Retail Sales Ex Auto And Gas Apr: 0.6% (est 0.2%; prev -0.3%) \n",
      "\n",
      "US Retail Sales Control Group Apr: 0.7% (est 0.4%; prev -0.3%)\n",
      "EU approves Microsoft’s $69 billion acquisition of Activision Blizzard, clearing major hurdle\n",
      "Microsoft Excel Loot Crates confirmed\n",
      "It's always a good time to buy more MSFT!\n",
      "If you have $50k to invest into VOO how would you do so?\n",
      "Welcome to r/stocks!\n",
      "\n",
      "For stock recommendations please see our portfolio sticky, sort by hot, it's the first sticky, or see [past portfolio stickies here.](https://www.reddit.com/r/stocks/search?q=author%3Aautomoderator+title%3A%22Rate+My+Portfolio%22&restrict_sr=on&sort=new&t=all)\n",
      "\n",
      "For beginner advice, brokerage info, book recommendations, even advanced topics and more, please read our [Wiki here.](https://www.reddit.com/r/stocks/wiki/index)\n",
      "\n",
      "If you're wondering **why a stock moved** a certain way, check out [Finviz](https://finviz.com/quote.ashx?t=spy) which aggregates the most news for almost every stock, but also see [Reuters](https://www.reuters.com/), and even [Yahoo Finance](https://finance.yahoo.com/).\n",
      "\n",
      "Also include *some* [due diligence](https://www.investopedia.com/terms/d/duediligence.asp) to this post or it may be removed if it's low effort.\n",
      "\n",
      "*I am a bot, and this action was performed automatically. Please [contact the moderators of this subreddit](/message/compose/?to=/r/stocks) if you have any questions or concerns.*\n",
      "Lump sum followed by DCA is statistically the best option, but it can be psychologically rough. If you are confident in your mental than lump sum, but if not DCA\n",
      "If the market dropped 10%, what one stock would you load up on immediately?\n",
      "It all depends on WHY it drops.\n",
      "AAPL.\n"
     ]
    }
   ],
   "source": [
    "for post in subreddit_stocks.hot(limit=5):\n",
    "    print(post.title)\n",
    "    submission = reddit.submission(post.id)\n",
    "    c = 0\n",
    "    for comment in submission.comments:\n",
    "        comment = comment.body\n",
    "        if not comment == \"[deleted]\":\n",
    "            print(comment)\n",
    "            c+=1\n",
    "        if c == 2:\n",
    "            break"
   ]
  },
  {
   "attachments": {},
   "cell_type": "markdown",
   "id": "c31f370d",
   "metadata": {},
   "source": [
    "We can now use GPT to extract stock tickers from all of these posts and tell us whether the sentiment for the mentioned assets is positive, neutral or negative:"
   ]
  },
  {
   "attachments": {},
   "cell_type": "markdown",
   "id": "e5480358",
   "metadata": {},
   "source": [
    "## OpenAI API\n",
    "\n",
    "Remember to use the notebook as shown, you must set your OpenAI API Key as an environment variable. Obviously, there are many ways you could provide your API Key to the Python code, input() or even hard-coded, but those are typically not recommended for safety reasons. Having it as an environment variable let's the key live on the computer, but not actually be present in the code.\n",
    "\n",
    "### Set-up Open AI API Key\n",
    "\n",
    "We'll only need to do this once per computer"
   ]
  },
  {
   "cell_type": "code",
   "execution_count": 24,
   "id": "b42ed8c5",
   "metadata": {},
   "outputs": [],
   "source": [
    "# Uncomment below and swap in your key to place your environment key using Python\n",
    "# Then you can delete the key string and the code cell below will still work!\n",
    "# os.environ[\"OPENAI_API_KEY\"] = \"Your key goes here!"
   ]
  },
  {
   "cell_type": "code",
   "execution_count": 25,
   "id": "149550f5",
   "metadata": {},
   "outputs": [],
   "source": [
    "openai.api_key = os.getenv(\"OPENAI_API_KEY\")"
   ]
  },
  {
   "attachments": {},
   "cell_type": "markdown",
   "id": "27abbc84",
   "metadata": {},
   "source": [
    "## Prompt Generation\n",
    "First, we need to create a dictionary containing the title and top three comments"
   ]
  },
  {
   "cell_type": "code",
   "execution_count": 26,
   "id": "abc5a92d",
   "metadata": {},
   "outputs": [
    {
     "data": {
      "text/plain": [
       "<bound method BaseListingMixin.hot of Subreddit(display_name='stocks')>"
      ]
     },
     "execution_count": 26,
     "metadata": {},
     "output_type": "execute_result"
    }
   ],
   "source": [
    "getattr(subreddit_stocks, \"hot\")"
   ]
  },
  {
   "cell_type": "code",
   "execution_count": 27,
   "id": "9424948d",
   "metadata": {},
   "outputs": [],
   "source": [
    "def get_titles_and_comments(subreddit=\"stocks\", sub_instance=\"hot\", limit=10, num_comments=2, skip_first=2):\n",
    "    subreddit = reddit.subreddit(subreddit)\n",
    "    titles_and_comments = {}\n",
    "    for c, post in enumerate(getattr(subreddit, sub_instance)(limit=limit)):\n",
    "        \n",
    "        if c < skip_first:\n",
    "            continue\n",
    "        \n",
    "        c+=(1-skip_first)\n",
    "        \n",
    "        titles_and_comments[c] = \"\"\n",
    "\n",
    "        submission = reddit.submission(post.id)\n",
    "        title = post.title\n",
    "        \n",
    "        titles_and_comments[c] += \"Title: \" + title  + \"\\n\\n\"\n",
    "        titles_and_comments[c] += \"Comments: \\n\\n\"\n",
    "        \n",
    "        comment_counter = 0\n",
    "        for comment in submission.comments:\n",
    "            comment = comment.body\n",
    "            if not comment == \"[deleted]\":\n",
    "                titles_and_comments[c] += comment + \"\\n\"\n",
    "                comment_counter+=1\n",
    "            if comment_counter == num_comments:\n",
    "                break\n",
    "\n",
    "    return titles_and_comments"
   ]
  },
  {
   "cell_type": "code",
   "execution_count": 28,
   "id": "bdba4923",
   "metadata": {},
   "outputs": [],
   "source": [
    "titles_and_comments = get_titles_and_comments(subreddit=\"stocks\", limit=12)"
   ]
  },
  {
   "cell_type": "code",
   "execution_count": 29,
   "id": "0aa5842d",
   "metadata": {},
   "outputs": [
    {
     "name": "stdout",
     "output_type": "stream",
     "text": [
      "Title: If you have $50k to invest into VOO how would you do so?\n",
      "\n",
      "Comments: \n",
      "\n",
      "Welcome to r/stocks!\n",
      "\n",
      "For stock recommendations please see our portfolio sticky, sort by hot, it's the first sticky, or see [past portfolio stickies here.](https://www.reddit.com/r/stocks/search?q=author%3Aautomoderator+title%3A%22Rate+My+Portfolio%22&restrict_sr=on&sort=new&t=all)\n",
      "\n",
      "For beginner advice, brokerage info, book recommendations, even advanced topics and more, please read our [Wiki here.](https://www.reddit.com/r/stocks/wiki/index)\n",
      "\n",
      "If you're wondering **why a stock moved** a certain way, check out [Finviz](https://finviz.com/quote.ashx?t=spy) which aggregates the most news for almost every stock, but also see [Reuters](https://www.reuters.com/), and even [Yahoo Finance](https://finance.yahoo.com/).\n",
      "\n",
      "Also include *some* [due diligence](https://www.investopedia.com/terms/d/duediligence.asp) to this post or it may be removed if it's low effort.\n",
      "\n",
      "*I am a bot, and this action was performed automatically. Please [contact the moderators of this subreddit](/message/compose/?to=/r/stocks) if you have any questions or concerns.*\n",
      "Lump sum followed by DCA is statistically the best option, but it can be psychologically rough. If you are confident in your mental than lump sum, but if not DCA\n",
      "\n"
     ]
    }
   ],
   "source": [
    "print(titles_and_comments[2])"
   ]
  },
  {
   "cell_type": "code",
   "execution_count": 30,
   "id": "dbf1395f",
   "metadata": {},
   "outputs": [],
   "source": [
    "def create_prompt(title_and_comments):\n",
    "\n",
    "    task = \"Return the stock ticker or company in the following heading and comments and classify the sentiment. If no ticker or company is mentioned write 'No company mentioned':\\n\\n\"\n",
    "    return task + title_and_comments\n"
   ]
  },
  {
   "cell_type": "code",
   "execution_count": 31,
   "id": "1c761a05",
   "metadata": {},
   "outputs": [],
   "source": [
    "prompt = create_prompt(titles_and_comments[1])"
   ]
  },
  {
   "cell_type": "code",
   "execution_count": 32,
   "id": "85fcd8b3",
   "metadata": {},
   "outputs": [
    {
     "name": "stdout",
     "output_type": "stream",
     "text": [
      "Return the stock ticker or company in the following heading and comments and classify the sentiment. If no ticker or company is mentioned write 'No company mentioned':\n",
      "\n",
      "Title: EU approves Microsoft’s $69 billion acquisition of Activision Blizzard, clearing major hurdle\n",
      "\n",
      "Comments: \n",
      "\n",
      "Microsoft Excel Loot Crates confirmed\n",
      "It's always a good time to buy more MSFT!\n",
      "\n"
     ]
    }
   ],
   "source": [
    "print(prompt)"
   ]
  },
  {
   "cell_type": "code",
   "execution_count": 33,
   "id": "84b80bdd",
   "metadata": {
    "scrolled": false
   },
   "outputs": [
    {
     "name": "stdout",
     "output_type": "stream",
     "text": [
      "Title: EU approves Microsoft’s $69 billion acquisition of Activision Blizzard, clearing major hurdle\n",
      "\n",
      "Comments: \n",
      "\n",
      "Microsoft Excel Loot Crates confirmed\n",
      "It's always a good time to buy more MSFT!\n",
      "\n",
      "Sentiment: \n",
      "Company: Microsoft (MSFT)\n",
      "Sentiment: Positive\n",
      "------------------------------\n",
      "Title: If you have $50k to invest into VOO how would you do so?\n",
      "\n",
      "Comments: \n",
      "\n",
      "Welcome to r/stocks!\n",
      "\n",
      "For stock recommendations please see our portfolio sticky, sort by hot, it's the first sticky, or see [past portfolio stickies here.](https://www.reddit.com/r/stocks/search?q=author%3Aautomoderator+title%3A%22Rate+My+Portfolio%22&restrict_sr=on&sort=new&t=all)\n",
      "\n",
      "For beginner advice, brokerage info, book recommendations, even advanced topics and more, please read our [Wiki here.](https://www.reddit.com/r/stocks/wiki/index)\n",
      "\n",
      "If you're wondering **why a stock moved** a certain way, check out [Finviz](https://finviz.com/quote.ashx?t=spy) which aggregates the most news for almost every stock, but also see [Reuters](https://www.reuters.com/), and even [Yahoo Finance](https://finance.yahoo.com/).\n",
      "\n",
      "Also include *some* [due diligence](https://www.investopedia.com/terms/d/duediligence.asp) to this post or it may be removed if it's low effort.\n",
      "\n",
      "*I am a bot, and this action was performed automatically. Please [contact the moderators of this subreddit](/message/compose/?to=/r/stocks) if you have any questions or concerns.*\n",
      "Lump sum followed by DCA is statistically the best option, but it can be psychologically rough. If you are confident in your mental than lump sum, but if not DCA\n",
      "\n",
      "Sentiment: \n",
      "Company: VOO (Vanguard S&P 500 ETF)\n",
      "Sentiment: Neutral\n",
      "------------------------------\n",
      "Title: If the market dropped 10%, what one stock would you load up on immediately?\n",
      "\n",
      "Comments: \n",
      "\n",
      "It all depends on WHY it drops.\n",
      "AAPL.\n",
      "\n",
      "Sentiment: \n",
      "AAPL (Apple Inc.) Positive\n",
      "------------------------------\n",
      "Title: Tax Lots showing purchase price as much higher?\n",
      "\n",
      "Comments: \n",
      "\n",
      "Dividends reinvested?   That would do it.  Stock splits? \n",
      "\n",
      "Also, this lowers your tax liability\n",
      "\n",
      "Sentiment: \n",
      "No company mentioned\n",
      "------------------------------\n",
      "Title: Why did $NVDA go down so much from its peak of ~$329 in 2021 to ~$112 and then recover to ~$290 today?\n",
      "\n",
      "Comments: \n",
      "\n",
      "Welcome to r/stocks!\n",
      "\n",
      "For beginner advice, brokerage info, book recommendations, even advanced topics and more, please read our [Wiki here.](https://www.reddit.com/r/stocks/wiki/index)\n",
      "\n",
      "If you're wondering **why a stock moved** a certain way, check out [Finviz](https://finviz.com/quote.ashx?t=spy) which aggregates the most news for almost every stock, but also see [Reuters](https://www.reuters.com/), and even [Yahoo Finance](https://finance.yahoo.com/).\n",
      "\n",
      "Please direct all simple questions towards the stickied Daily Discussion and Quarterly Rate My Portfolio threads (sort by Hot, they're at the top).\n",
      "\n",
      "Also include *some* [due diligence](https://www.investopedia.com/terms/d/duediligence.asp) to this post or it may be removed if it's low effort.\n",
      "\n",
      "*I am a bot, and this action was performed automatically. Please [contact the moderators of this subreddit](/message/compose/?to=/r/stocks) if you have any questions or concerns.*\n",
      "Covid and crypto increased the sales and profit margin. It started falling after crypto crash and lower chip/card sales. US banned high powered chips to china which crushed it to 130.\n",
      "chatgpt and AI news lead to short covering and more buying and it is 288 now.\n",
      "\n",
      "Sentiment: \n",
      "Company: NVDA\n",
      "Sentiment: Neutral\n",
      "------------------------------\n",
      "Title: (5/16) Tuesday's Pre-Market Stock Movers & News\n",
      "\n",
      "Comments: \n",
      "\n",
      "\n",
      "Sentiment: No company mentioned\n",
      "------------------------------\n",
      "Title: What industries are experiencing the biggest lows right now?\n",
      "\n",
      "Comments: \n",
      "\n",
      "mREITs and financials with exposure to high risk credit markets and/or commercial real estate are hardest hit right now (but with a lot of risk that things could snowball more into failures and bankruptcies). Some parts of the energy/O&G sector had declines on recession fear (mainly those heavily exposed to oil price or dependent on being cheap relative to fossil fuels, like renewables)\n",
      "\n",
      "Just take a look at the Spyder sector etfs in a comparison graph to get a decent idea of what's been going on XLE and XLF are down while big tech has been surging. Personally I'm not necessarily buying the distressed parts of the market just because they're down, but those in that area that I think will do well on a business case after a pullback. Enphase after their earnings was one example I added because I like their business advantages and they've seen a heavy pullback. I also have been keeping eye on AXP to add at some point in financials.\n",
      "Natural gas.\n",
      "\n",
      "Sentiment: No company mentioned\n",
      "------------------------------\n",
      "Title: PYPL what happened?\n",
      "\n",
      "Comments: \n",
      "\n",
      "Revenue growth slowed to single digits so it’s no longer valued as a disruptive growth fintech company. There’s also concerns over margin, so it’s growth comes at a cost. It’s still a decent investment long term, but I’d temper expectations.\n",
      "i bought more. I think its a bit oversold\n",
      "\n",
      "Sentiment: \n",
      "Ticker: PYPL\n",
      "Sentiment: Positive\n",
      "------------------------------\n",
      "Title: My Robinhood account says I have $0 equity! I'm waiting on a callback.\n",
      "\n",
      "Comments: \n",
      "\n",
      "And RobinHood wants to go 24 hours trading 😂\n",
      "$HOOD is down to $8.65 from a high of $70.39, and has basically done nothing but decline since the initial offering. They've been screwing their users pretty hard, so your problem is no surprise. The company posted their biggest loss in 2021 (they only lost 1.03B in 2022, but they lost 3.4 billion in 2021) and lost a third of their active users from 2021 to 2022. Why does anybody still use RH?\n",
      "\n",
      "Sentiment: \n",
      "Company: Robinhood ($HOOD)\n",
      "Sentiment: Negative\n",
      "------------------------------\n",
      "Title: Regional Bank Preferred Stock\n",
      "\n",
      "Comments: \n",
      "\n",
      "What did they invest in?\n",
      "\n",
      "Sentiment: \n",
      "No company mentioned.\n",
      "------------------------------\n"
     ]
    }
   ],
   "source": [
    "for key, title_and_comments in titles_and_comments.items():\n",
    "    \n",
    "    prompt = create_prompt(title_and_comments)\n",
    "    \n",
    "    response = openai.Completion.create(engine=\"text-davinci-003\",\n",
    "                                                prompt=prompt,\n",
    "                                                max_tokens=256,\n",
    "                                                temperature=0,\n",
    "                                                top_p=1.0,\n",
    "                                                frequency_penalty=0.0,\n",
    "                                                presence_penalty=0.0)\n",
    "    print(title_and_comments)\n",
    "    print(\"Sentiment: \" + response[\"choices\"][0][\"text\"])\n",
    "    print(\"-\"*30)"
   ]
  }
 ],
 "metadata": {
  "kernelspec": {
   "display_name": "Python 3 (ipykernel)",
   "language": "python",
   "name": "python3"
  },
  "language_info": {
   "codemirror_mode": {
    "name": "ipython",
    "version": 3
   },
   "file_extension": ".py",
   "mimetype": "text/x-python",
   "name": "python",
   "nbconvert_exporter": "python",
   "pygments_lexer": "ipython3",
   "version": "3.9.2"
  }
 },
 "nbformat": 4,
 "nbformat_minor": 5
}
